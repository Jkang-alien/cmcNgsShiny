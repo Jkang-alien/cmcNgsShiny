{
  "cells": [
    {
      "cell_type": "raw",
      "metadata": {},
      "source": [
        "---\n",
        "title: \"Instructions\"\n",
        "format: html\n",
        "---"
      ],
      "id": "997706b1"
    },
    {
      "cell_type": "markdown",
      "metadata": {},
      "source": [
        "```{bash}\n",
        "#| eval: false\n",
        "sudo cp -r ~/Projects/cmcNgsShiny/ /etc/shiny-server/\n",
        "sudo systemctl restart shiny-server.service\n",
        "sudo systemctl restart nginx.service\n",
        "sudo vi /etc/nginx/nginx.conf\n",
        "```"
      ],
      "id": "b6d1d30f"
    }
  ],
  "metadata": {
    "kernelspec": {
      "display_name": "Python 3",
      "language": "python",
      "name": "python3"
    }
  },
  "nbformat": 4,
  "nbformat_minor": 5
}